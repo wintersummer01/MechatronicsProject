{
 "cells": [
  {
   "cell_type": "code",
   "execution_count": 39,
   "metadata": {},
   "outputs": [
    {
     "name": "stdout",
     "output_type": "stream",
     "text": [
      "[[0. 1. 2. 3. 2. 1. 0.]\n",
      " [1. 2. 3. 4. 3. 2. 1.]\n",
      " [2. 3. 4. 5. 4. 3. 2.]\n",
      " [3. 4. 5. 6. 5. 4. 3.]\n",
      " [2. 3. 4. 5. 4. 3. 2.]\n",
      " [1. 2. 3. 4. 3. 2. 1.]\n",
      " [0. 1. 2. 3. 2. 1. 0.]]\n"
     ]
    }
   ],
   "source": [
    "import numpy as np\n",
    "\n",
    "N = 7\n",
    "a = np.hstack((np.arange(0, N//2), np.linspace(N//2, 0, N//2+1)))\n",
    "b = a\n",
    "for i in range(1, N):\n",
    "    b = np.vstack((b, a+a[i]))\n",
    "print(b)"
   ]
  },
  {
   "cell_type": "code",
   "execution_count": 8,
   "metadata": {},
   "outputs": [
    {
     "data": {
      "text/plain": [
       "False"
      ]
     },
     "execution_count": 8,
     "metadata": {},
     "output_type": "execute_result"
    }
   ],
   "source": [
    "16 not in range(1, 17)"
   ]
  },
  {
   "cell_type": "code",
   "execution_count": 14,
   "metadata": {},
   "outputs": [
    {
     "name": "stdout",
     "output_type": "stream",
     "text": [
      "([1, 2], [1, 2])\n",
      "([3, 4], [3, 4])\n",
      "3\n"
     ]
    }
   ],
   "source": [
    "field = [[1,2],[3,4]]\n",
    "Wmap = [[1,2],[3,4]]\n",
    "\n",
    "for p in zip(field, Wmap):\n",
    "    print(p)\n",
    "\n",
    "k = [[c + d for c, d in zip(a, b)] for a, b in zip(field, Wmap)]\n",
    "k = [a for line in k for a in line]\n",
    "p = lambda i: k[i]\n",
    "god = max(range(len(k)), key=p)\n",
    "print(god)"
   ]
  },
  {
   "cell_type": "code",
   "execution_count": null,
   "metadata": {},
   "outputs": [],
   "source": []
  }
 ],
 "metadata": {
  "interpreter": {
   "hash": "e68bafc6deccff08e1ee0f9acfc0c6e898f368699f8f06df9a6af08fb2a0309e"
  },
  "kernelspec": {
   "display_name": "Python 3.9.7 64-bit",
   "language": "python",
   "name": "python3"
  },
  "language_info": {
   "codemirror_mode": {
    "name": "ipython",
    "version": 3
   },
   "file_extension": ".py",
   "mimetype": "text/x-python",
   "name": "python",
   "nbconvert_exporter": "python",
   "pygments_lexer": "ipython3",
   "version": "3.9.7"
  },
  "orig_nbformat": 4
 },
 "nbformat": 4,
 "nbformat_minor": 2
}
